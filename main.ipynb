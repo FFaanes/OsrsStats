{
 "cells": [
  {
   "cell_type": "code",
   "execution_count": 1,
   "id": "711d661d-ca73-4601-851f-c401a067a303",
   "metadata": {
    "tags": []
   },
   "outputs": [],
   "source": [
    "import requests\n",
    "from bs4 import BeautifulSoup"
   ]
  },
  {
   "cell_type": "code",
   "execution_count": 2,
   "id": "eea76f3f-4d6f-432b-990c-55a0f84bc5d8",
   "metadata": {
    "tags": []
   },
   "outputs": [],
   "source": [
    "class OsrsPlayer:\n",
    "    def __init__(self, username):\n",
    "        # Gather parameters using class functions\n",
    "        self.username = self.__fix_username(username) # Prepare username for request\n",
    "        self.lowest_skill = [\"\",99]\n",
    "        self.lowest_xp = [\"\",200000000]\n",
    "        self.highest_xp = [\"\",0]\n",
    "        self.lvl99 = [] # List of 99's\n",
    "        self.skill_stats = self.__collect_skills() # Used to update variables and generate stats\n",
    "        \n",
    "    # Used in __init__ to replace spaces with % to work in link request\n",
    "    def __fix_username(self, username):\n",
    "        try:\n",
    "            username.replace(\" \",\"%20\")\n",
    "        except:\n",
    "            pass\n",
    "        return username\n",
    "    \n",
    "    def __collect_skills(self):\n",
    "        self.skill_stats = {}\n",
    "        \n",
    "        r = requests.get(f\"https://secure.runescape.com/m=hiscore_oldschool/hiscorepersonal?user1={self.username}\").text\n",
    "        html = BeautifulSoup(r, 'html.parser')\n",
    "        skills = html.find_all(\"td\", {\"align\" : \"right\"})[6:-1]\n",
    "\n",
    "        for skill_nr in range(23):\n",
    "            current_skill_slice = skills[skill_nr * 4 : skill_nr * 4 + 4]\n",
    "\n",
    "            current_skill = current_skill_slice[0].find(\"img\")[\"src\"].split(\"_\")[-1].replace(\"1.gif\",\"\").capitalize()\n",
    "            current_skill_rank = int(current_skill_slice[1].text.replace(\",\",\"\")) # Rank\n",
    "            current_skill_level = int(current_skill_slice[2].text) # Level\n",
    "            current_skill_xp = int(current_skill_slice[3].text.replace(\",\",\"\")) # XP\n",
    "            \n",
    "            # Find Lowest Skill\n",
    "            if current_skill_level < self.lowest_skill[1]:\n",
    "                self.lowest_skill[0] = current_skill\n",
    "                self.lowest_skill[1] = current_skill_level\n",
    "                \n",
    "            # Find Lowest XP\n",
    "            if current_skill_xp < self.lowest_xp[1]:\n",
    "                self.lowest_xp[0] = current_skill\n",
    "                self.lowest_xp[1] = current_skill_xp\n",
    "                \n",
    "            # Count 99's\n",
    "            if current_skill_level == 99:\n",
    "                self.lvl99.append(current_skill)\n",
    "            if len(self.lvl99) == 23:\n",
    "                self.lvl99 = \"Max\"\n",
    "                \n",
    "            # Get Highest XP\n",
    "            if current_skill_xp > self.highest_xp[1]:\n",
    "                self.highest_xp[0] = current_skill\n",
    "                self.highest_xp[1] = current_skill_xp\n",
    "\n",
    "            # Append skill, rank, level and xp to self.skill_stats\n",
    "            self.skill_stats[current_skill] = [current_skill_rank,current_skill_level,current_skill_xp]\n",
    "        return self.skill_stats\n",
    "    \n",
    "    # Return Rank of spesific Skill\n",
    "    def rank(self, skill):\n",
    "        return self.skill_stats[skill][0]\n",
    "     \n",
    "    # Return Level of spesific Skill\n",
    "    def level(self, skill):\n",
    "        return self.skill_stats[skill][1]\n",
    "    \n",
    "    # Return XP in spesific skill \n",
    "    def xp(self, skill):\n",
    "        return self.skill_stats[skill][2]\n",
    "    "
   ]
  },
  {
   "cell_type": "code",
   "execution_count": 281,
   "id": "46cad229-1fc3-452b-acc1-a1087af366f0",
   "metadata": {
    "tags": []
   },
   "outputs": [],
   "source": [
    "kvarme = OsrsPlayer(\"Solo Kvarme\")"
   ]
  },
  {
   "cell_type": "code",
   "execution_count": 282,
   "id": "cfbee592-9494-4387-8111-025df21ca8f3",
   "metadata": {
    "tags": []
   },
   "outputs": [
    {
     "data": {
      "text/plain": [
       "['Fletching', 71]"
      ]
     },
     "execution_count": 282,
     "metadata": {},
     "output_type": "execute_result"
    }
   ],
   "source": [
    "kvarme.lowest_skill"
   ]
  },
  {
   "cell_type": "code",
   "execution_count": 283,
   "id": "f027fccc-9375-4ede-883a-43f337b68036",
   "metadata": {
    "tags": []
   },
   "outputs": [
    {
     "data": {
      "text/plain": [
       "['Fletching', 850408]"
      ]
     },
     "execution_count": 283,
     "metadata": {},
     "output_type": "execute_result"
    }
   ],
   "source": [
    "kvarme.lowest_xp"
   ]
  },
  {
   "cell_type": "code",
   "execution_count": 284,
   "id": "48cc6725-9a29-47e4-8ac1-faaab0d4c382",
   "metadata": {
    "tags": []
   },
   "outputs": [
    {
     "data": {
      "text/plain": [
       "['Strength', 'Hitpoints', 'Ranged', 'Magic', 'Firemaking', 'Thieving']"
      ]
     },
     "execution_count": 284,
     "metadata": {},
     "output_type": "execute_result"
    }
   ],
   "source": [
    "kvarme.lvl99"
   ]
  },
  {
   "cell_type": "code",
   "execution_count": 285,
   "id": "55be709e-8a44-4124-ac48-108dfccc0522",
   "metadata": {
    "tags": []
   },
   "outputs": [
    {
     "data": {
      "text/plain": [
       "['Hitpoints', 18883096]"
      ]
     },
     "execution_count": 285,
     "metadata": {},
     "output_type": "execute_result"
    }
   ],
   "source": [
    "kvarme.highest_xp"
   ]
  },
  {
   "cell_type": "code",
   "execution_count": 288,
   "id": "e2bc3209-5ddd-4676-9bee-f014e45d4bba",
   "metadata": {
    "tags": []
   },
   "outputs": [
    {
     "name": "stdout",
     "output_type": "stream",
     "text": [
      "445637\n",
      "82\n",
      "2872004\n"
     ]
    }
   ],
   "source": [
    "print(kvarme.rank(\"Attack\"))\n",
    "print(kvarme.level(\"Construction\"))\n",
    "print(kvarme.xp(\"Herblore\"))"
   ]
  },
  {
   "cell_type": "code",
   "execution_count": 289,
   "id": "a14c88ac-47ae-4778-8660-181c292b8f25",
   "metadata": {
    "tags": []
   },
   "outputs": [
    {
     "data": {
      "text/plain": [
       "{'Attack': [445637, 93, 7500771],\n",
       " 'Defence': [514807, 90, 5359831],\n",
       " 'Strength': [398143, 99, 13211687],\n",
       " 'Hitpoints': [303723, 99, 18883096],\n",
       " 'Ranged': [339459, 99, 14605138],\n",
       " 'Prayer': [475494, 78, 1710733],\n",
       " 'Magic': [232779, 99, 13986976],\n",
       " 'Cooking': [558678, 86, 3864476],\n",
       " 'Woodcutting': [934184, 72, 987443],\n",
       " 'Fletching': [943405, 71, 850408],\n",
       " 'Fishing': [297238, 88, 4736036],\n",
       " 'Firemaking': [67638, 99, 13835783],\n",
       " 'Crafting': [271666, 88, 4506089],\n",
       " 'Smithing': [316505, 83, 2898278],\n",
       " 'Mining': [483658, 79, 1871609],\n",
       " 'Herblore': [305245, 83, 2872004],\n",
       " 'Agility': [372431, 78, 1730541],\n",
       " 'Thieving': [36196, 99, 15127228],\n",
       " 'Slayer': [336354, 91, 6095123],\n",
       " 'Farming': [324565, 91, 6321021],\n",
       " 'Runecraft': [348254, 74, 1151768],\n",
       " 'Hunter': [485290, 75, 1248992],\n",
       " 'Construction': [455790, 82, 2465352]}"
      ]
     },
     "execution_count": 289,
     "metadata": {},
     "output_type": "execute_result"
    }
   ],
   "source": [
    "kvarme.skill_stats"
   ]
  }
 ],
 "metadata": {
  "kernelspec": {
   "display_name": "Python 3 (ipykernel)",
   "language": "python",
   "name": "python3"
  },
  "language_info": {
   "codemirror_mode": {
    "name": "ipython",
    "version": 3
   },
   "file_extension": ".py",
   "mimetype": "text/x-python",
   "name": "python",
   "nbconvert_exporter": "python",
   "pygments_lexer": "ipython3",
   "version": "3.11.5"
  }
 },
 "nbformat": 4,
 "nbformat_minor": 5
}
